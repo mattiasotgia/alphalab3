{
 "cells": [
  {
   "cell_type": "markdown",
   "id": "3472d394-00de-402d-a25e-3e51d7a3094d",
   "metadata": {},
   "source": [
    "# Data analysis posterior\n",
    "\n",
    "Building classes for TimeSeries data and FrequencySeries data"
   ]
  },
  {
   "cell_type": "code",
   "execution_count": 1,
   "id": "e040d164-5331-422f-8bb5-ba3861f28799",
   "metadata": {},
   "outputs": [],
   "source": [
    "import matplotlib.pyplot as plt\n",
    "import numpy as np\n",
    "import utils\n",
    "utils.initialize_plot()\n",
    "\n",
    "import mplhep as hep\n",
    "from scipy import fft\n",
    "from uncertainties import ufloat\n",
    "from scipy import signal\n",
    "from iminuit import Minuit\n",
    "from iminuit.cost import LeastSquares\n",
    "from jacobi import propagate\n",
    "\n",
    "import glob \n",
    "files = sorted(glob.glob('data/*lvm'))"
   ]
  },
  {
   "cell_type": "markdown",
   "id": "cc8c217e-1986-4430-859f-321084a088d6",
   "metadata": {},
   "source": [
    "Define `TimeSeries` and `FrequencySeries` classes, based on metaclass `Series`"
   ]
  },
  {
   "cell_type": "code",
   "execution_count": null,
   "id": "2999ee53-cc11-4cd9-a843-569784258d87",
   "metadata": {},
   "outputs": [],
   "source": [
    "\n",
    "def get(filename):\n",
    "    '''Ingest data from files to TimeSeries objects'''\n",
    "    \n",
    "    distance = 0.01 * float(filename.split('/')[1].split('cm_')[0])\n",
    "    time, amp, m1, m2 = np.loadtxt(filename, skiprows=23, unpack=True)\n",
    "    freq_sampling = 1/(time[1]-time[0])\n",
    "    samples = len(time)\n",
    "    \n",
    "    Source = TimeSeries(data=amp,\n",
    "                        xindex=time)\n",
    "    Rec1 = TimeSeries(data=m1,\n",
    "                      xindex=time)\n",
    "    Rec2 = TimeSeries(data=m2,\n",
    "                      xindex=time)\n",
    "    \n",
    "    return Source, Rec1, Rec2\n",
    "\n",
    "\n",
    "class Series():\n",
    "    \n",
    "    header: dict = None\n",
    "    \n",
    "    data: np.ndarray = None\n",
    "    xindex: np.ndarray = None\n",
    "    \n",
    "    def header(self, key):\n",
    "        return header[key]\n",
    "    \n",
    "    def __getitem__(self, key):\n",
    "        return self.xindex[key], self.data[key]\n",
    "    \n",
    "    def plot(self, tmin: float = None, tmax: float = None, cut = False):\n",
    "        \n"
   ]
  }
 ],
 "metadata": {
  "kernelspec": {
   "display_name": "Python 3",
   "language": "python",
   "name": "python3"
  },
  "language_info": {
   "codemirror_mode": {
    "name": "ipython",
    "version": 3
   },
   "file_extension": ".py",
   "mimetype": "text/x-python",
   "name": "python",
   "nbconvert_exporter": "python",
   "pygments_lexer": "ipython3",
   "version": "3.9.12"
  }
 },
 "nbformat": 4,
 "nbformat_minor": 5
}
